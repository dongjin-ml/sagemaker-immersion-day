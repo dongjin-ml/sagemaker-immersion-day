{
 "cells": [
  {
   "cell_type": "markdown",
   "id": "02127090-ee33-4005-b5af-5f4e386ed1a6",
   "metadata": {},
   "source": [
    "# How to Setup Amazon SageMaker with MLflow"
   ]
  },
  {
   "cell_type": "markdown",
   "id": "557f10ee-714a-4378-9493-abe2cd010754",
   "metadata": {},
   "source": [
    "This notebook's CI test result for us-west-2 is as follows. CI test results in other regions can be found at the end of the notebook.\n",
    "\n",
    "![This us-west-2 badge failed to load. Check your device's internet connectivity, otherwise the service is currently unavailable](https://prod.us-west-2.tcx-beacon.docs.aws.dev/sagemaker-nb/us-west-2/sagemaker-mlflow|sagemaker_mlflow_setup.ipynb)"
   ]
  },
  {
   "cell_type": "markdown",
   "id": "9f09f362-71a7-409c-a4c7-0ee5e59c1581",
   "metadata": {},
   "source": [
    "## 1. Updates and Imports"
   ]
  },
  {
   "cell_type": "code",
   "execution_count": 1,
   "id": "cd83cc42-fc1e-49cd-88e3-7a685add2404",
   "metadata": {
    "scrolled": true,
    "tags": []
   },
   "outputs": [
    {
     "name": "stdout",
     "output_type": "stream",
     "text": [
      "\u001b[31mERROR: pip's dependency resolver does not currently take into account all the packages that are installed. This behaviour is the source of the following dependency conflicts.\n",
      "awscli 1.35.9 requires botocore==1.35.43, but you have botocore 1.35.52 which is incompatible.\u001b[0m\u001b[31m\n",
      "\u001b[0m"
     ]
    }
   ],
   "source": [
    "!pip install -U --quiet boto3\n",
    "!pip install --quiet mlflow==2.13.2 sagemaker-mlflow==0.1.0"
   ]
  },
  {
   "cell_type": "code",
   "execution_count": 34,
   "id": "9d993209-0eab-4d45-b531-78b188aa6ece",
   "metadata": {
    "tags": []
   },
   "outputs": [],
   "source": [
    "import sys, os\n",
    "module_path = \"..\"\n",
    "sys.path.append(os.path.abspath(module_path))"
   ]
  },
  {
   "cell_type": "markdown",
   "id": "f932a722-a2cd-4aca-bdc0-d00553439966",
   "metadata": {},
   "source": [
    "### Imports"
   ]
  },
  {
   "cell_type": "code",
   "execution_count": 2,
   "id": "329cf85a-352c-4f55-8e2a-4771a26fbe70",
   "metadata": {
    "tags": []
   },
   "outputs": [
    {
     "name": "stdout",
     "output_type": "stream",
     "text": [
      "sagemaker.config INFO - Not applying SDK defaults from location: /etc/xdg/sagemaker/config.yaml\n",
      "sagemaker.config INFO - Not applying SDK defaults from location: /home/ec2-user/.config/sagemaker/config.yaml\n"
     ]
    }
   ],
   "source": [
    "import json\n",
    "import sagemaker\n",
    "import boto3"
   ]
  },
  {
   "cell_type": "markdown",
   "id": "95c2869e-1845-4534-bf97-d530b5c27c48",
   "metadata": {},
   "source": [
    "### Session variables"
   ]
  },
  {
   "cell_type": "code",
   "execution_count": 3,
   "id": "ece22344-f747-4fb2-9051-3640dd95dd6b",
   "metadata": {
    "tags": []
   },
   "outputs": [],
   "source": [
    "sess = sagemaker.Session()\n",
    "bucket_name = sess.default_bucket()\n",
    "role = sagemaker.get_execution_role()\n",
    "region = sess.boto_region_name\n",
    "\n",
    "iam_client = boto3.client(\"iam\")\n",
    "sts_client = boto3.client(\"sts\")\n",
    "sm_client = boto3.client(\"sagemaker\")\n",
    "account_id = sts_client.get_caller_identity()[\"Account\"]"
   ]
  },
  {
   "cell_type": "markdown",
   "id": "6c292837-353c-4c3c-91b9-3088e8d5a02b",
   "metadata": {},
   "source": [
    "## 2. MLflow Permissions"
   ]
  },
  {
   "cell_type": "markdown",
   "id": "0a4a30c9-91d5-497e-84aa-88e58e7040f8",
   "metadata": {},
   "source": [
    "### 2.1. IAM Role for the SageMaker Execution for MLflow\n",
    "다음 셀을 실행하려면 이 노트북을 실행하는 데 사용되는 IAM 역할에 IAM 역할을 생성할 수 있는 권한이 있는지 확인하세요. <BR>\n",
    "노트북 실행 역할의 정책에서 iam:CreateRole, iam:CreatePolicy, iam:ListPolicies, iam:AttachRolePolicy 작업을 허용해야 합니다. <BR>\n",
    "SageMaker Studio에서 이 노트북을 실행 중인 경우, 다음 단계를 통해 노트북 실행 역할을 업데이트할 수 있습니다:\n",
    "\n",
    "AWS 콘솔로 이동하여 사용 중인 도메인을 선택합니다. <BR>\n",
    "도메인 아래에서 사용 중인 사용자 프로필을 선택합니다. 거기에 실행 역할이 나열되어 있을 것입니다. <BR>\n",
    "IAM 콘솔로 이동하여 \"역할\"에서 실행 역할을 검색하고, iam:CreateRole, iam:CreatePolicy, iam:ListPolicies, iam:AttachRolePolicy 작업을 허용하는 정책으로 역할을 업데이트합니다.<BR>\n",
    "\n",
    "SageMaker Studio 노트북을 사용하지 않는 경우, AWS CLI 구성에 사용한 역할이 IAM 역할을 생성하고 정책을 연결할 수 있는 적절한 권한을 가지고 있는지 확인하세요.\n",
    "\n",
    "SageMaker Execution Role에 `AmazonS3FullAccess`policy를 추가하거나 혹은 아래의 인라인 policy를 추가합니다. <BR>\n",
    "다음은 역할에 추가할 수 있는 인라인 정책의 예시입니다:\n",
    "\n",
    "```json\n",
    "{\n",
    "    \"Version\": \"2012-10-17\",\n",
    "    \"Statement\": [\n",
    "        {\n",
    "            \"Sid\": \"Statement1\",\n",
    "            \"Effect\": \"Allow\",\n",
    "            \"Action\": [\n",
    "                \"iam:ListPolicies\",\n",
    "                \"iam:CreatePolicy\",\n",
    "                \"iam:CreateRole\",\n",
    "                \"iam:AttachRolePolicy\"\n",
    "            ],\n",
    "            \"Resource\": [\n",
    "                \"*\"\n",
    "            ]\n",
    "        }\n",
    "    ]\n",
    "}\n",
    "```\n",
    "\n",
    "추가적으로 SageMaker 서비스 역할은 MLFlow 추적 서버에 액세스하는 클라이언트가 사용하며 MLFlow REST API를 호출할 수 있는 권한이 필요합니다. 또한 SageMaker 서비스 역할에는 추적 서버를 생성, 업데이트, 시작, 중지 및 삭제하기 위한 SageMaker API 권한이 필요합니다.\n",
    "SageMaker Execution Role에는 다음 정책이 필요합니다.\n",
    "\n",
    "```json\n",
    "{\n",
    "    \"Version\": \"2012-10-17\",    \n",
    "    \"Statement\": [        \n",
    "        {            \n",
    "            \"Effect\": \"Allow\",            \n",
    "            \"Action\": [\n",
    "                \"sagemaker-mlflow:*\",\n",
    "                \"sagemaker:CreateMlflowTrackingServer\",\n",
    "                \"sagemaker:UpdateMlflowTrackingServer\",\n",
    "                \"sagemaker:DeleteMlflowTrackingServer\",\n",
    "                \"sagemaker:StartMlflowTrackingServer\",\n",
    "                \"sagemaker:StopMlflowTrackingServer\",\n",
    "                \"sagemaker:CreatePresignedMlflowTrackingServerUrl\"\n",
    "            ],            \n",
    "            \"Resource\": \"*\"        \n",
    "        }        \n",
    "    ]\n",
    "}\n",
    "```"
   ]
  },
  {
   "cell_type": "code",
   "execution_count": 16,
   "id": "394beef2-a97d-4308-b4b8-685bb16c04bd",
   "metadata": {
    "tags": []
   },
   "outputs": [],
   "source": [
    "from sagemaker import get_execution_role"
   ]
  },
  {
   "cell_type": "code",
   "execution_count": 17,
   "id": "050c6ef3-1afc-41f4-962c-c6d24087b2f4",
   "metadata": {
    "tags": []
   },
   "outputs": [
    {
     "name": "stdout",
     "output_type": "stream",
     "text": [
      "SageMaker Execution Role Name: AmazonSageMaker-ExecutionRole-20221206T163436\n"
     ]
    }
   ],
   "source": [
    "sagemaker_role_name = get_execution_role().rsplit('/', 1)[-1]\n",
    "print (f\"SageMaker Execution Role Name: {sagemaker_role_name}\")"
   ]
  },
  {
   "cell_type": "code",
   "execution_count": 20,
   "id": "b88feefb-cda8-42d0-a4c0-706f1639db14",
   "metadata": {},
   "outputs": [
    {
     "data": {
      "text/plain": [
       "{'ResponseMetadata': {'RequestId': '349bac16-33f3-4bc5-a51c-b628fea2af9f',\n",
       "  'HTTPStatusCode': 200,\n",
       "  'HTTPHeaders': {'date': 'Thu, 31 Oct 2024 02:15:26 GMT',\n",
       "   'x-amzn-requestid': '349bac16-33f3-4bc5-a51c-b628fea2af9f',\n",
       "   'content-type': 'text/xml',\n",
       "   'content-length': '212'},\n",
       "  'RetryAttempts': 0}}"
      ]
     },
     "execution_count": 20,
     "metadata": {},
     "output_type": "execute_result"
    }
   ],
   "source": [
    "sm_mlflow_execution_policy = {\n",
    "    \"Version\": \"2012-10-17\",    \n",
    "    \"Statement\": [        \n",
    "        {            \n",
    "            \"Effect\": \"Allow\",            \n",
    "            \"Action\": [\n",
    "                \"sagemaker-mlflow:*\",\n",
    "                \"sagemaker:CreateMlflowTrackingServer\",\n",
    "                \"sagemaker:UpdateMlflowTrackingServer\",\n",
    "                \"sagemaker:DeleteMlflowTrackingServer\",\n",
    "                \"sagemaker:StartMlflowTrackingServer\",\n",
    "                \"sagemaker:StopMlflowTrackingServer\",\n",
    "                \"sagemaker:CreatePresignedMlflowTrackingServerUrl\"\n",
    "            ],            \n",
    "            \"Resource\": \"*\"        \n",
    "        }        \n",
    "    ]\n",
    "}\n",
    "\n",
    "sagemaker_role_name = get_execution_role().rsplit('/', 1)[-1]\n",
    "sagemaker_exe_role_arn = get_execution_role()\n",
    "\n",
    "sm_mlflow_execution_policy_info = iam_client.create_policy(\n",
    "    PolicyName=\"sm-mlflow-execution-policy\",\n",
    "    PolicyDocument=json.dumps(sm_mlflow_execution_policy)\n",
    ")\n",
    "\n",
    "sm_mlflow_execution_policy_arn = sm_mlflow_execution_policy_info[\"Policy\"][\"Arn\"]\n",
    "\n",
    "# Attach the policy to the MLflow role\n",
    "iam_client.attach_role_policy(\n",
    "    RoleName=sagemaker_role_name, PolicyArn=sm_mlflow_execution_policy_arn\n",
    ")"
   ]
  },
  {
   "cell_type": "markdown",
   "id": "e6bae350-030f-4ecf-8380-5b11b73b5806",
   "metadata": {},
   "source": [
    "### 2.2. IAM Role for the MLflow Tracking Server"
   ]
  },
  {
   "cell_type": "code",
   "execution_count": 26,
   "id": "ae1ce475-c2a6-4a0a-98a7-756e484f4a46",
   "metadata": {},
   "outputs": [],
   "source": [
    "tracking_server_name = \"mlflow-tracking-anomaly-detection\"\n",
    "mlflow_tracking_server_role_name = \"mlflow-tracking-server\""
   ]
  },
  {
   "cell_type": "code",
   "execution_count": 28,
   "id": "96c0ad98-f237-4bfd-b134-40b46ebfa81d",
   "metadata": {},
   "outputs": [
    {
     "data": {
      "text/plain": [
       "{'ResponseMetadata': {'RequestId': 'e87a1990-78e4-4fbd-90b0-940c6571fd85',\n",
       "  'HTTPStatusCode': 200,\n",
       "  'HTTPHeaders': {'date': 'Thu, 31 Oct 2024 02:18:51 GMT',\n",
       "   'x-amzn-requestid': 'e87a1990-78e4-4fbd-90b0-940c6571fd85',\n",
       "   'content-type': 'text/xml',\n",
       "   'content-length': '212'},\n",
       "  'RetryAttempts': 0}}"
      ]
     },
     "execution_count": 28,
     "metadata": {},
     "output_type": "execute_result"
    }
   ],
   "source": [
    "mlflow_trust_policy = {\n",
    "    \"Version\": \"2012-10-17\",\n",
    "    \"Statement\": [\n",
    "        {\n",
    "            \"Effect\": \"Allow\",\n",
    "            \"Principal\": {\"Service\": [\"sagemaker.amazonaws.com\"]},\n",
    "            \"Action\": \"sts:AssumeRole\",\n",
    "        }\n",
    "    ],\n",
    "}\n",
    "\n",
    "# Create role for MLflow\n",
    "mlflow_role = iam_client.create_role(\n",
    "    RoleName=mlflow_tracking_server_role_name,\n",
    "    AssumeRolePolicyDocument=json.dumps(mlflow_trust_policy)\n",
    ")\n",
    "mlflow_role_arn = mlflow_role[\"Role\"][\"Arn\"]\n",
    "\n",
    "# Create policy for S3 and SageMaker Model Registry\n",
    "sm_s3_model_registry_policy = {\n",
    "    \"Version\": \"2012-10-17\",\n",
    "    \"Statement\": [\n",
    "        {\n",
    "            \"Effect\": \"Allow\",\n",
    "            \"Action\": [\n",
    "                \"s3:Get*\",\n",
    "                \"s3:Put*\",\n",
    "                \"s3:List*\",\n",
    "                \"sagemaker:AddTags\",\n",
    "                \"sagemaker:CreateModelPackageGroup\",\n",
    "                \"sagemaker:CreateModelPackage\",\n",
    "                \"sagemaker:UpdateModelPackage\",\n",
    "                \"sagemaker:DescribeModelPackageGroup\",\n",
    "            ],\n",
    "            \"Resource\": \"*\",\n",
    "        }\n",
    "    ],\n",
    "}\n",
    "\n",
    "mlflow_s3_sm_model_registry_iam_policy = iam_client.create_policy(\n",
    "    PolicyName=\"mlflow-s3-sm-model-registry\", PolicyDocument=json.dumps(sm_s3_model_registry_policy)\n",
    ")\n",
    "mlflow_s3_sm_model_registry_iam_policy_arn = mlflow_s3_sm_model_registry_iam_policy[\"Policy\"][\"Arn\"]\n",
    "\n",
    "# Attach the policy to the MLflow role\n",
    "iam_client.attach_role_policy(\n",
    "    RoleName=mlflow_tracking_server_role_name, \n",
    "    PolicyArn=mlflow_s3_sm_model_registry_iam_policy_arn\n",
    ")"
   ]
  },
  {
   "cell_type": "markdown",
   "id": "ade88b9a-961a-4ced-9320-e56d7e9cf3eb",
   "metadata": {},
   "source": [
    "## 3. Create MLflow Tracking Server"
   ]
  },
  {
   "cell_type": "code",
   "execution_count": 29,
   "id": "8d496f9b-4493-4ab2-9d35-8d4ec0f79620",
   "metadata": {},
   "outputs": [
    {
     "data": {
      "text/plain": [
       "{'TrackingServerArn': 'arn:aws:sagemaker:us-west-2:419974056037:mlflow-tracking-server/mlflow-tracking-anomaly-detection',\n",
       " 'ResponseMetadata': {'RequestId': '7d52402a-09d1-494d-a611-23fb6576eb2e',\n",
       "  'HTTPStatusCode': 200,\n",
       "  'HTTPHeaders': {'x-amzn-requestid': '7d52402a-09d1-494d-a611-23fb6576eb2e',\n",
       "   'content-type': 'application/x-amz-json-1.1',\n",
       "   'content-length': '121',\n",
       "   'date': 'Thu, 31 Oct 2024 02:18:56 GMT'},\n",
       "  'RetryAttempts': 0}}"
      ]
     },
     "execution_count": 29,
     "metadata": {},
     "output_type": "execute_result"
    }
   ],
   "source": [
    "sm_client.create_mlflow_tracking_server(\n",
    "    TrackingServerName=tracking_server_name,\n",
    "    ArtifactStoreUri=f\"s3://{bucket_name}/{tracking_server_name}\",\n",
    "    TrackingServerSize=\"Small\",\n",
    "    MlflowVersion=\"2.13.2\",\n",
    "    RoleArn=mlflow_role_arn,\n",
    "    AutomaticModelRegistration=False,\n",
    ")"
   ]
  },
  {
   "cell_type": "code",
   "execution_count": 30,
   "id": "20d535f6-6dd2-4c5c-99e3-8b428c052c70",
   "metadata": {},
   "outputs": [],
   "source": [
    "tracking_server_arn = (\n",
    "    f\"arn:aws:sagemaker:{region}:{account_id}:mlflow-tracking-server/{tracking_server_name}\"\n",
    ")"
   ]
  },
  {
   "cell_type": "code",
   "execution_count": 31,
   "id": "ddff09d7-73aa-4f77-b437-1e8c05c59ea2",
   "metadata": {},
   "outputs": [
    {
     "data": {
      "text/plain": [
       "{'TrackingServerArn': 'arn:aws:sagemaker:us-west-2:419974056037:mlflow-tracking-server/mlflow-tracking-anomaly-detection',\n",
       " 'TrackingServerName': 'mlflow-tracking-anomaly-detection',\n",
       " 'ArtifactStoreUri': 's3://sagemaker-us-west-2-419974056037/mlflow-tracking-anomaly-detection',\n",
       " 'TrackingServerSize': 'Small',\n",
       " 'MlflowVersion': '2.13.2',\n",
       " 'RoleArn': 'arn:aws:iam::419974056037:role/mlflow-tracking-server',\n",
       " 'TrackingServerStatus': 'Creating',\n",
       " 'IsActive': 'Inactive',\n",
       " 'TrackingServerUrl': 'https://t-gkhhsgmuuavn.us-west-2.experiments.sagemaker.aws',\n",
       " 'WeeklyMaintenanceWindowStart': 'Fri:06:22',\n",
       " 'AutomaticModelRegistration': False,\n",
       " 'CreationTime': datetime.datetime(2024, 10, 31, 2, 18, 56, 720000, tzinfo=tzlocal()),\n",
       " 'CreatedBy': {},\n",
       " 'LastModifiedTime': datetime.datetime(2024, 10, 31, 2, 18, 56, 720000, tzinfo=tzlocal()),\n",
       " 'LastModifiedBy': {},\n",
       " 'ResponseMetadata': {'RequestId': 'c4ab25be-fbdd-47ff-9e47-578db82caff6',\n",
       "  'HTTPStatusCode': 200,\n",
       "  'HTTPHeaders': {'x-amzn-requestid': 'c4ab25be-fbdd-47ff-9e47-578db82caff6',\n",
       "   'content-type': 'application/x-amz-json-1.1',\n",
       "   'content-length': '707',\n",
       "   'date': 'Thu, 31 Oct 2024 02:19:07 GMT'},\n",
       "  'RetryAttempts': 0}}"
      ]
     },
     "execution_count": 31,
     "metadata": {},
     "output_type": "execute_result"
    }
   ],
   "source": [
    "sm_client.describe_mlflow_tracking_server(TrackingServerName=tracking_server_name)"
   ]
  },
  {
   "cell_type": "markdown",
   "id": "41009d0a-bfe9-4992-a6eb-d48af731f499",
   "metadata": {},
   "source": [
    "* save tracking server arn"
   ]
  },
  {
   "cell_type": "code",
   "execution_count": 35,
   "id": "457ab15e-cd29-40ad-a74b-e8ec8ad1ba94",
   "metadata": {},
   "outputs": [],
   "source": [
    "from utils.ssm import parameter_store"
   ]
  },
  {
   "cell_type": "code",
   "execution_count": 36,
   "id": "15b3cb27-9fc5-41a7-b13c-10a1b513df59",
   "metadata": {},
   "outputs": [],
   "source": [
    "strRegionName=boto3.Session().region_name\n",
    "pm = parameter_store(strRegionName)\n",
    "strPrefix = pm.get_params(key=\"PREFIX\")"
   ]
  },
  {
   "cell_type": "code",
   "execution_count": 37,
   "id": "0c0ce783-eb6d-4815-9391-662014739a58",
   "metadata": {},
   "outputs": [
    {
     "data": {
      "text/plain": [
       "'Store suceess'"
      ]
     },
     "execution_count": 37,
     "metadata": {},
     "output_type": "execute_result"
    }
   ],
   "source": [
    "pm = parameter_store(strRegionName)\n",
    "pm.put_params(key=\"-\".join([strPrefix, \"MLFLOW-TRACKING-SERVER-ARN\"]), value=tracking_server_arn, overwrite=True)"
   ]
  },
  {
   "cell_type": "markdown",
   "id": "073d12e9-b91e-4c0c-93d1-8cae66648e49",
   "metadata": {},
   "source": [
    "## 4. MLflow tracking test"
   ]
  },
  {
   "cell_type": "markdown",
   "id": "ad90cde7-9de2-4df7-80a5-010165edafce",
   "metadata": {},
   "source": [
    "Connect to tracking server"
   ]
  },
  {
   "cell_type": "code",
   "execution_count": null,
   "id": "a7a43ce7-3e9a-4b47-b051-9f59522ee43f",
   "metadata": {},
   "outputs": [],
   "source": [
    "import mlflow\n",
    "\n",
    "mlflow.set_tracking_uri(tracking_server_arn)\n",
    "print (f'tracking_server_arn: {tracking_server_arn}')"
   ]
  },
  {
   "cell_type": "code",
   "execution_count": null,
   "id": "8c03e42e-debb-497d-9d4b-08ffe8267167",
   "metadata": {},
   "outputs": [],
   "source": [
    "experiment_name = 'test'\n",
    "mlflow.set_experiment(experiment_name)"
   ]
  },
  {
   "cell_type": "markdown",
   "id": "c9197fca-6370-4f91-a52f-440ef5b22484",
   "metadata": {},
   "source": [
    "Log a metric"
   ]
  },
  {
   "cell_type": "code",
   "execution_count": null,
   "id": "bab5d5df-c1a8-4a2b-89e1-52d36d630f3d",
   "metadata": {},
   "outputs": [],
   "source": [
    "with mlflow.start_run():\n",
    "    mlflow.log_metric(\"foo\", 1)"
   ]
  },
  {
   "cell_type": "markdown",
   "id": "d603ef2f-9c42-4ef2-896e-73ab1eaa6ace",
   "metadata": {},
   "source": [
    "See results in MLflow UI. You can either launch the MLflow UI from within SageMaker Studio, or generate a pre-signed URL like this:"
   ]
  },
  {
   "cell_type": "code",
   "execution_count": null,
   "id": "0690708f-976c-472e-8e4d-281aa163e9aa",
   "metadata": {},
   "outputs": [],
   "source": [
    "sm_client.create_presigned_mlflow_tracking_server_url(TrackingServerName=tracking_server_name)"
   ]
  },
  {
   "cell_type": "markdown",
   "id": "0f739f1a-2a97-4cc5-bb6b-bc59e4111d0f",
   "metadata": {},
   "source": [
    "## Notebook CI Test Results\n",
    "\n",
    "This notebook was tested in multiple regions. The test results are as follows, except for us-west-2 which is shown at the top of the notebook.\n",
    "\n",
    "\n",
    "![This us-east-1 badge failed to load. Check your device's internet connectivity, otherwise the service is currently unavailable](https://prod.us-west-2.tcx-beacon.docs.aws.dev/sagemaker-nb/us-east-1/sagemaker-mlflow|sagemaker_mlflow_setup.ipynb)\n",
    "\n",
    "![This us-east-2 badge failed to load. Check your device's internet connectivity, otherwise the service is currently unavailable](https://prod.us-west-2.tcx-beacon.docs.aws.dev/sagemaker-nb/us-east-2/sagemaker-mlflow|sagemaker_mlflow_setup.ipynb)\n",
    "\n",
    "![This us-west-1 badge failed to load. Check your device's internet connectivity, otherwise the service is currently unavailable](https://prod.us-west-2.tcx-beacon.docs.aws.dev/sagemaker-nb/us-west-1/sagemaker-mlflow|sagemaker_mlflow_setup.ipynb)\n",
    "\n",
    "![This ca-central-1 badge failed to load. Check your device's internet connectivity, otherwise the service is currently unavailable](https://prod.us-west-2.tcx-beacon.docs.aws.dev/sagemaker-nb/ca-central-1/sagemaker-mlflow|sagemaker_mlflow_setup.ipynb)\n",
    "\n",
    "![This sa-east-1 badge failed to load. Check your device's internet connectivity, otherwise the service is currently unavailable](https://prod.us-west-2.tcx-beacon.docs.aws.dev/sagemaker-nb/sa-east-1/sagemaker-mlflow|sagemaker_mlflow_setup.ipynb)\n",
    "\n",
    "![This eu-west-1 badge failed to load. Check your device's internet connectivity, otherwise the service is currently unavailable](https://prod.us-west-2.tcx-beacon.docs.aws.dev/sagemaker-nb/eu-west-1/sagemaker-mlflow|sagemaker_mlflow_setup.ipynb)\n",
    "\n",
    "![This eu-west-2 badge failed to load. Check your device's internet connectivity, otherwise the service is currently unavailable](https://prod.us-west-2.tcx-beacon.docs.aws.dev/sagemaker-nb/eu-west-2/sagemaker-mlflow|sagemaker_mlflow_setup.ipynb)\n",
    "\n",
    "![This eu-west-3 badge failed to load. Check your device's internet connectivity, otherwise the service is currently unavailable](https://prod.us-west-2.tcx-beacon.docs.aws.dev/sagemaker-nb/eu-west-3/sagemaker-mlflow|sagemaker_mlflow_setup.ipynb)\n",
    "\n",
    "![This eu-central-1 badge failed to load. Check your device's internet connectivity, otherwise the service is currently unavailable](https://prod.us-west-2.tcx-beacon.docs.aws.dev/sagemaker-nb/eu-central-1/sagemaker-mlflow|sagemaker_mlflow_setup.ipynb)\n",
    "\n",
    "![This eu-north-1 badge failed to load. Check your device's internet connectivity, otherwise the service is currently unavailable](https://prod.us-west-2.tcx-beacon.docs.aws.dev/sagemaker-nb/eu-north-1/sagemaker-mlflow|sagemaker_mlflow_setup.ipynb)\n",
    "\n",
    "![This ap-southeast-1 badge failed to load. Check your device's internet connectivity, otherwise the service is currently unavailable](https://prod.us-west-2.tcx-beacon.docs.aws.dev/sagemaker-nb/ap-southeast-1/sagemaker-mlflow|sagemaker_mlflow_setup.ipynb)\n",
    "\n",
    "![This ap-southeast-2 badge failed to load. Check your device's internet connectivity, otherwise the service is currently unavailable](https://prod.us-west-2.tcx-beacon.docs.aws.dev/sagemaker-nb/ap-southeast-2/sagemaker-mlflow|sagemaker_mlflow_setup.ipynb)\n",
    "\n",
    "![This ap-northeast-1 badge failed to load. Check your device's internet connectivity, otherwise the service is currently unavailable](https://prod.us-west-2.tcx-beacon.docs.aws.dev/sagemaker-nb/ap-northeast-1/sagemaker-mlflow|sagemaker_mlflow_setup.ipynb)\n",
    "\n",
    "![This ap-northeast-2 badge failed to load. Check your device's internet connectivity, otherwise the service is currently unavailable](https://prod.us-west-2.tcx-beacon.docs.aws.dev/sagemaker-nb/ap-northeast-2/sagemaker-mlflow|sagemaker_mlflow_setup.ipynb)\n",
    "\n",
    "![This ap-south-1 badge failed to load. Check your device's internet connectivity, otherwise the service is currently unavailable](https://prod.us-west-2.tcx-beacon.docs.aws.dev/sagemaker-nb/ap-south-1/sagemaker-mlflow|sagemaker_mlflow_setup.ipynb)"
   ]
  }
 ],
 "metadata": {
  "kernelspec": {
   "display_name": "conda_pytorch_p310",
   "language": "python",
   "name": "conda_pytorch_p310"
  },
  "language_info": {
   "codemirror_mode": {
    "name": "ipython",
    "version": 3
   },
   "file_extension": ".py",
   "mimetype": "text/x-python",
   "name": "python",
   "nbconvert_exporter": "python",
   "pygments_lexer": "ipython3",
   "version": "3.10.14"
  }
 },
 "nbformat": 4,
 "nbformat_minor": 5
}
